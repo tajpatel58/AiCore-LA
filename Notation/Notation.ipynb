{
 "cells": [
  {
   "cell_type": "code",
   "execution_count": 5,
   "metadata": {},
   "outputs": [],
   "source": [
    "from sympy.interactive import printing \n",
    "printing.init_printing(use_latex = True)\n"
   ]
  },
  {
   "cell_type": "markdown",
   "metadata": {},
   "source": [
    "$ \\text{\\Large General Notation:} $"
   ]
  },
  {
   "cell_type": "markdown",
   "metadata": {},
   "source": [
    "Good use of notation is essential to writing good mathematics, it improves readability and understanding.\n",
    "\n",
    "Proficiency with this notation will build throughout these notes, so don't worry so much if it's a little confusing right now"
   ]
  },
  {
   "cell_type": "markdown",
   "metadata": {},
   "source": [
    "$ \\in \\hspace{0.2cm} $ = in \n",
    "\n",
    "$ \\notin $ = Not in $\n",
    "\n",
    "$ := $ is the defining symbol, essentially like assignment in Python. \n",
    "\n",
    "$ \\exists \\hspace{0.2cm} $ = There exists\n",
    "\n",
    "$ \\forall \\hspace{0.2cm} $ = For all/ For Every\n",
    "\n",
    "$ s.t $ = Such that \n",
    "\n",
    "$ \\subset $ = This is the subset symbol.\n",
    "\n",
    "$ \\{ \\} $ = Curly brackets denote a set. Usually a colon (:) within curly brackets will mean \"such that\". e.g: \\{ 1,2,3 \\} is a set with the numbers 1,2 and 3. \n",
    "\n",
    "$ \\mathbb{R} $ = Set of Real Numbers, ie the set of all numbers you can think of. \n",
    "\n",
    "$ \\mathbb{N} $ = Set of Non-negative Integers = $ \\{ 0,1,2,3,4,5,6,7,.... \\} $"
   ]
  },
  {
   "cell_type": "markdown",
   "metadata": {},
   "source": [
    "$ \\text{\\large{A Few Examples}} $"
   ]
  },
  {
   "cell_type": "markdown",
   "metadata": {},
   "source": [
    "1. Mathematical Statement:  $ \\forall x \\in \\{ 3, 6, 9 \\}, \\hspace{0.2cm} \\exists n \\in \\mathbb{N} \\hspace{0.2cm} st \\hspace{0.2cm} 3n = x $\n",
    "\n",
    "   English Equivalent: For every number in the set $ \\{ 3, 6, 9 \\} $, there exists an integer such that, 3 times this integer gives us the number in the set. "
   ]
  },
  {
   "cell_type": "markdown",
   "metadata": {},
   "source": [
    "2. Mathematical Statement: $ \\forall n \\in \\mathbb{N}, \\hspace{0.2cm} 10n \\in \\mathbb{N} $\n",
    "\n",
    "   English equivalent: For every integer, if we multiply it by 10, then this is also an integer. "
   ]
  },
  {
   "cell_type": "markdown",
   "metadata": {},
   "source": [
    "3. Mathematical Statement: $ A =  \\{6x : x \\in \\mathbb{N} \\} , 24 \\in A \\hspace{0.1cm} \\text{but} \\hspace{0.1cm} 23 \\notin A$\n",
    "\n",
    "   English equivalent: We let A be defined as the set of multiples of 6. 24 is in this set, but 23 isn't. \n",
    "   "
   ]
  },
  {
   "cell_type": "markdown",
   "metadata": {},
   "source": [
    "4. Mathematical Statement: $ \\mathbb{R}_{>0} := \\{ x : x \\in \\mathbb{R} \\hspace{0.1cm} \\text{and} \\hspace{0.1cm} x > 0 \\} $ \n",
    "\n",
    "   English equivalent: We define(assign) $\\mathbb{R}_{>0}$ to denote the set of Real numbers that are greater than 0. \n"
   ]
  },
  {
   "cell_type": "markdown",
   "metadata": {},
   "source": [
    "5. Mathematical Statement: $\\mathbb{N} \\subset \\mathbb{R} $\n",
    "\n",
    "   English Equivalent: The set of integers is a subset of the set of real numbers. "
   ]
  },
  {
   "cell_type": "markdown",
   "metadata": {},
   "source": []
  }
 ],
 "metadata": {
  "interpreter": {
   "hash": "742eda1bdf1e218a3bb2b4bc9aaa5c450f2dcf1623d3e127dc8dee9e2156d7e1"
  },
  "kernelspec": {
   "display_name": "Python 3.9.5 64-bit ('base': conda)",
   "name": "python3"
  },
  "language_info": {
   "codemirror_mode": {
    "name": "ipython",
    "version": 3
   },
   "file_extension": ".py",
   "mimetype": "text/x-python",
   "name": "python",
   "nbconvert_exporter": "python",
   "pygments_lexer": "ipython3",
   "version": "3.9.5"
  },
  "orig_nbformat": 4
 },
 "nbformat": 4,
 "nbformat_minor": 2
}
